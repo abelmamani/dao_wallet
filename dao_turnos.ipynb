{
 "cells": [
  {
   "cell_type": "code",
   "execution_count": 11,
   "metadata": {},
   "outputs": [],
   "source": [
    "from dao import HospitalDAO"
   ]
  },
  {
   "cell_type": "code",
   "execution_count": 12,
   "metadata": {},
   "outputs": [
    {
     "name": "stdout",
     "output_type": "stream",
     "text": [
      "Tenemos las siguientes especialidades: CLINICA MEDICA, ALERGIA E INMUNOLOGIA, ENDOCRINOLOGIA, DERMATOLOGIA, SALUD MENTAL, DIABETES, \n"
     ]
    }
   ],
   "source": [
    "data = HospitalDAO()\n",
    "esps = data.get_medical_specialities(hos_id=1)\n",
    "response = \"Tenemos las siguientes especialidades: \"\n",
    "\n",
    "for e in esps:\n",
    "    response += e[1]+\", \"\n",
    "\n",
    "print(response)\n"
   ]
  },
  {
   "cell_type": "code",
   "execution_count": 3,
   "metadata": {},
   "outputs": [],
   "source": [
    "doctors = data.get_doctors()\n",
    "specialities = data.get_medical_specialities()"
   ]
  },
  {
   "cell_type": "code",
   "execution_count": 4,
   "metadata": {},
   "outputs": [
    {
     "data": {
      "text/plain": [
       "[(1, 'Chamale', 'Oscar Elías', 1),\n",
       " (2, 'Lozano', 'Alejandro', 2),\n",
       " (3, 'Berardi', 'Yanina Viviana', 2),\n",
       " (4, 'Bertolino', 'María Lorena', 3),\n",
       " (5, 'Consigli', 'Nicolas Ernesto', 4),\n",
       " (6, 'Antonelli', 'Romina', 5),\n",
       " (7, 'Bartolacci', 'Inés', 6),\n",
       " (8, 'Majul', 'Enrique', 6)]"
      ]
     },
     "execution_count": 4,
     "metadata": {},
     "output_type": "execute_result"
    }
   ],
   "source": [
    "doctors"
   ]
  },
  {
   "cell_type": "code",
   "execution_count": 5,
   "metadata": {},
   "outputs": [
    {
     "data": {
      "text/plain": [
       "[(1, 'CLINICA MEDICA', 1),\n",
       " (2, 'ALERGIA E INMUNOLOGIA', 1),\n",
       " (3, 'ENDOCRINOLOGIA', 1),\n",
       " (4, 'DERMATOLOGIA', 1),\n",
       " (5, 'SALUD MENTAL', 1),\n",
       " (6, 'DIABETES', 1)]"
      ]
     },
     "execution_count": 5,
     "metadata": {},
     "output_type": "execute_result"
    }
   ],
   "source": [
    "specialities"
   ]
  },
  {
   "cell_type": "code",
   "execution_count": 15,
   "metadata": {},
   "outputs": [],
   "source": [
    "suc = data.get_headquarters(heq_id=1)"
   ]
  },
  {
   "cell_type": "code",
   "execution_count": 16,
   "metadata": {},
   "outputs": [
    {
     "data": {
      "text/plain": [
       "[(1, 'Sede Central', 'Oncativo N¿¿1248 B¿¿ General Paz', 'C¿¿rdoba', 'Argentina', 1)]"
      ]
     },
     "execution_count": 16,
     "metadata": {},
     "output_type": "execute_result"
    }
   ],
   "source": [
    "suc"
   ]
  }
 ],
 "metadata": {
  "kernelspec": {
   "display_name": "Python 3",
   "language": "python",
   "name": "python3"
  },
  "language_info": {
   "codemirror_mode": {
    "name": "ipython",
    "version": 3
   },
   "file_extension": ".py",
   "mimetype": "text/x-python",
   "name": "python",
   "nbconvert_exporter": "python",
   "pygments_lexer": "ipython3",
   "version": "3.6.4"
  }
 },
 "nbformat": 4,
 "nbformat_minor": 2
}
