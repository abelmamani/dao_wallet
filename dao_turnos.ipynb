{
 "cells": [
  {
   "cell_type": "code",
   "execution_count": 1,
   "metadata": {},
   "outputs": [
    {
     "name": "stdout",
     "output_type": "stream",
     "text": [
      "entering headquarters config\n",
      "finished config for headquarters\n",
      "entering healthrelations config\n",
      "finished config for healthrealations\n",
      "entering doctors config\n",
      "finished config for doctors\n",
      "entering specialities config\n",
      "finished config for specialities\n",
      "entering parameters config\n",
      "finished config for parameters\n",
      "entering parameters config\n",
      "finished config for parameters\n",
      "starting\n",
      "finished connection\n"
     ]
    }
   ],
   "source": [
    "from dao import HospitalDAO"
   ]
  },
  {
   "cell_type": "code",
   "execution_count": 6,
   "metadata": {},
   "outputs": [
    {
     "name": "stdout",
     "output_type": "stream",
     "text": [
      "Tenemos las siguientes especialidades: CLINICA MEDICA, DIABETES, ALERGIA E INMUNOLOGIA, DERMATOLOGIA, ENDOCRINOLOGIA, \n"
     ]
    }
   ],
   "source": [
    "data = HospitalDAO()\n",
    "esps = data.get_medical_specialities(heq_id=2)\n",
    "response = \"Tenemos las siguientes especialidades: \"\n",
    "\n",
    "for e in esps:\n",
    "    response += e[1]+\", \"\n",
    "\n",
    "print(response)\n"
   ]
  },
  {
   "cell_type": "code",
   "execution_count": 16,
   "metadata": {},
   "outputs": [],
   "source": [
    "doctors = data.get_doctors(heq_id=2)\n",
    "specialities = data.get_medical_specialities()"
   ]
  },
  {
   "cell_type": "code",
   "execution_count": 17,
   "metadata": {},
   "outputs": [
    {
     "data": {
      "text/plain": [
       "[(1, 'Chamale', 'Oscar El¿¿as', 1),\n",
       " (2, 'Lozano', 'Alejandro', 2),\n",
       " (4, 'Bertolino', 'Mar¿¿a Lorena', 3),\n",
       " (5, 'Consigli', 'Nicolas Ernesto', 4),\n",
       " (7, 'Bartolacci', 'In¿¿s', 6),\n",
       " (8, 'Majul', 'Enrique', 6)]"
      ]
     },
     "execution_count": 17,
     "metadata": {},
     "output_type": "execute_result"
    }
   ],
   "source": [
    "doctors"
   ]
  },
  {
   "cell_type": "code",
   "execution_count": 5,
   "metadata": {},
   "outputs": [
    {
     "data": {
      "text/plain": [
       "[(1, 'CLINICA MEDICA', 1),\n",
       " (2, 'ALERGIA E INMUNOLOGIA', 1),\n",
       " (3, 'ENDOCRINOLOGIA', 1),\n",
       " (4, 'DERMATOLOGIA', 1),\n",
       " (5, 'SALUD MENTAL', 1),\n",
       " (6, 'DIABETES', 1)]"
      ]
     },
     "execution_count": 5,
     "metadata": {},
     "output_type": "execute_result"
    }
   ],
   "source": [
    "specialities"
   ]
  },
  {
   "cell_type": "code",
   "execution_count": 15,
   "metadata": {},
   "outputs": [],
   "source": [
    "suc = data.get_headquarters(heq_id=1)"
   ]
  },
  {
   "cell_type": "code",
   "execution_count": 16,
   "metadata": {},
   "outputs": [
    {
     "data": {
      "text/plain": [
       "[(1, 'Sede Central', 'Oncativo N¿¿1248 B¿¿ General Paz', 'C¿¿rdoba', 'Argentina', 1)]"
      ]
     },
     "execution_count": 16,
     "metadata": {},
     "output_type": "execute_result"
    }
   ],
   "source": [
    "suc"
   ]
  }
 ],
 "metadata": {
  "kernelspec": {
   "display_name": "Python 3",
   "language": "python",
   "name": "python3"
  },
  "language_info": {
   "codemirror_mode": {
    "name": "ipython",
    "version": 3
   },
   "file_extension": ".py",
   "mimetype": "text/x-python",
   "name": "python",
   "nbconvert_exporter": "python",
   "pygments_lexer": "ipython3",
   "version": "3.6.4"
  }
 },
 "nbformat": 4,
 "nbformat_minor": 2
}
