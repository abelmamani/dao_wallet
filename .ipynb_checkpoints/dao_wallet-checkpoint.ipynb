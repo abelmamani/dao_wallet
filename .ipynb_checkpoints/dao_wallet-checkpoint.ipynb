{
 "cells": [
  {
   "cell_type": "code",
   "execution_count": 1,
   "metadata": {},
   "outputs": [
    {
     "name": "stdout",
     "output_type": "stream",
     "text": [
      "/opt/oracle/instantclient_19_20\n",
      "entering parameters config\n",
      "finished config for parameters\n",
      "entering parameters config\n",
      "finished config for parameters\n",
      "entering parameters config\n",
      "finished config for parameters\n",
      "entering parameters config\n",
      "finished config for parameters\n",
      "entering parameters config\n",
      "finished config for parameters\n",
      "entering parameters config\n",
      "finished config for parameters\n",
      "starting\n",
      "finished connection\n"
     ]
    }
   ],
   "source": [
    "from daoWallet import WalletDAO"
   ]
  },
  {
   "cell_type": "code",
   "execution_count": 2,
   "metadata": {},
   "outputs": [],
   "source": [
    "data = WalletDAO()\n",
    "\n",
    "#consultar todos los tipos de transaccoines\n",
    "tipos = data.get_typeoftransactions()\n",
    "#consultar el tipo de transacion con id 1\n",
    "tipo = data.get_typeoftransactions(tpe_id = 1)\n",
    "\n",
    "#consultar todos los usuarios\n",
    "users = data.get_users()\n",
    "#consultar el usuario con id\n",
    "user = data.get_users(usr_id = 1)\n",
    "#consultar todos los usuarios por nombre o apellido\n",
    "users_by_name = data.get_users(usr_name = \"abel\")\n",
    "#insertar un nuevo usuario\n",
    "#user_insert = data.insert_user(\"abel4\", \"mamani4\", \"abel@gmail.com4\", \"pass4\")\n",
    "#actualizar un usuario\n",
    "#user_update = data.update_user(15, \"cain\", \"mamani2\", \"abel@gmail.com\", \"pass1\")\n",
    "#eliminar un usurio por id\n",
    "#user_delete = data.delete_user(15)\n",
    "\n",
    "#consultar todas la compañias\n",
    "companies = data.get_companies()\n",
    "#consultar una compañia por id\n",
    "company = data.get_companies(cpn_id = 1)\n",
    "#consultar todas las card de un user\n",
    "user_cards = data.get_companies(usr_id = 1)\n",
    "\n",
    "#consultart todos los contactos\n",
    "contacts = data.get_contacts()\n",
    "#consultar el contacto con id \n",
    "contact = data.get_contacts(con_id = 1)\n",
    "#consultar todas los contactos de un user\n",
    "user_contacts = data.get_contacts(usr_id = 1)\n",
    "\n",
    "#consultar todas las transacciones\n",
    "transactions = data.get_transactions()\n",
    "#consultar la transaccion con id\n",
    "transaction = data.get_transactions(tra_id  = 1)\n",
    "#consultar todas las transacciones de un usuario\n",
    "user_transactions = data.get_transactions(usr_id = 1)\n",
    "#consultar todas las transacciones de un tipo de transaccion en especifico\n",
    "type_transactions = data.get_transactions(tpe_id = 1)\n",
    "#consultar todas las transacciones de un usuario y de un tipo de transaciont en especifico\n",
    "user_and_type_transactions = data.get_transactions(usr_id = 1, tpe_id = 2)\n"
   ]
  },
  {
   "cell_type": "code",
   "execution_count": 3,
   "metadata": {},
   "outputs": [
    {
     "data": {
      "text/plain": [
       "[(1, 'CASH'), (2, 'CARD'), (3, 'INVOICE'), (4, 'TRANSFER')]"
      ]
     },
     "execution_count": 3,
     "metadata": {},
     "output_type": "execute_result"
    }
   ],
   "source": [
    "tipos"
   ]
  },
  {
   "cell_type": "code",
   "execution_count": 4,
   "metadata": {},
   "outputs": [
    {
     "data": {
      "text/plain": [
       "[(1, 'CASH')]"
      ]
     },
     "execution_count": 4,
     "metadata": {},
     "output_type": "execute_result"
    }
   ],
   "source": [
    "tipo"
   ]
  },
  {
   "cell_type": "code",
   "execution_count": 3,
   "metadata": {},
   "outputs": [
    {
     "data": {
      "text/plain": [
       "[(14, 'abel2', 'mamani2', 'abel@gmail.com2', 'pass2'),\n",
       " (16, 'abel4', 'mamani4', 'abel@gmail.com4', 'pass4'),\n",
       " (1, 'Abel', 'Mamani', 'abel@gmail.com', '1234567891'),\n",
       " (2, 'Cristina', 'Mamani', 'cristian@gmail.com', '1234567892'),\n",
       " (3, 'Julieta', 'Villagra', 'julieta@gmail.com', '1234567893'),\n",
       " (4, 'Daniela', 'Triador', 'daniela@gmail.com', '1234567894')]"
      ]
     },
     "execution_count": 3,
     "metadata": {},
     "output_type": "execute_result"
    }
   ],
   "source": [
    "users"
   ]
  },
  {
   "cell_type": "code",
   "execution_count": 14,
   "metadata": {},
   "outputs": [],
   "source": []
  },
  {
   "cell_type": "code",
   "execution_count": 15,
   "metadata": {},
   "outputs": [
    {
     "data": {
      "text/plain": [
       "[(4, 'Daniela', 'Triador', 'daniela@gmail.com', '1234567894')]"
      ]
     },
     "execution_count": 15,
     "metadata": {},
     "output_type": "execute_result"
    }
   ],
   "source": [
    "users_by_name"
   ]
  },
  {
   "cell_type": "code",
   "execution_count": 7,
   "metadata": {},
   "outputs": [
    {
     "data": {
      "text/plain": [
       "[(1, 'Abel', 'Mamani', 'abel@gmail.com', '1234567891')]"
      ]
     },
     "execution_count": 7,
     "metadata": {},
     "output_type": "execute_result"
    }
   ],
   "source": [
    "user"
   ]
  },
  {
   "cell_type": "code",
   "execution_count": 4,
   "metadata": {},
   "outputs": [
    {
     "data": {
      "text/plain": [
       "[(1, 'ABEL MAMANI', '12345678911', 'Visa', 'api visa', datetime.datetime(2023, 10, 12, 19, 18, 8), 1),\n",
       " (2, 'ABEL MAMANI', '12345678912', 'Mastercard', 'api mastercard', datetime.datetime(2023, 10, 12, 19, 18, 8), 1),\n",
       " (3, 'CRISTIAN HUANCO', '12345678921', 'Visa', 'api visa', datetime.datetime(2023, 10, 12, 19, 18, 9), 2),\n",
       " (4, 'CRISTIAN HUANCO', '12345678922', 'Mastercard', 'api mastercard', datetime.datetime(2023, 10, 12, 19, 18, 9), 2),\n",
       " (5, 'JULIETA VILLAGRA', '12345678931', 'Visa', 'api visa', datetime.datetime(2023, 10, 12, 19, 18, 9), 3),\n",
       " (6, 'JULIETA VILLAGRA', '12345678932', 'Mastercard', 'api mastercard', datetime.datetime(2023, 10, 12, 19, 18, 10), 3),\n",
       " (7, 'DANIELA TRIADOR', '12345678941', 'Visa', 'api visa', datetime.datetime(2023, 10, 12, 19, 18, 10), 4),\n",
       " (8, 'DANIELA TRIADOR', '12345678942', 'Mastercard', 'api mastercard', datetime.datetime(2023, 10, 12, 19, 18, 10), 4)]"
      ]
     },
     "execution_count": 4,
     "metadata": {},
     "output_type": "execute_result"
    }
   ],
   "source": [
    "companies"
   ]
  },
  {
   "cell_type": "code",
   "execution_count": 9,
   "metadata": {},
   "outputs": [
    {
     "data": {
      "text/plain": [
       "[(1, 'ABEL MAMANI', '12345678911', 'Visa', 'api visa', datetime.datetime(2023, 10, 12, 19, 18, 8), 1)]"
      ]
     },
     "execution_count": 9,
     "metadata": {},
     "output_type": "execute_result"
    }
   ],
   "source": [
    "company"
   ]
  },
  {
   "cell_type": "code",
   "execution_count": 10,
   "metadata": {},
   "outputs": [
    {
     "data": {
      "text/plain": [
       "[(1, 'ABEL MAMANI', '12345678911', 'Visa', 'api visa', datetime.datetime(2023, 10, 12, 19, 18, 8), 1),\n",
       " (2, 'ABEL MAMANI', '12345678912', 'Mastercard', 'api mastercard', datetime.datetime(2023, 10, 12, 19, 18, 8), 1)]"
      ]
     },
     "execution_count": 10,
     "metadata": {},
     "output_type": "execute_result"
    }
   ],
   "source": [
    "user_cards"
   ]
  },
  {
   "cell_type": "code",
   "execution_count": 11,
   "metadata": {},
   "outputs": [
    {
     "data": {
      "text/plain": [
       "[(1, 'contacto cristian', 'cristian@gmail.com', 1),\n",
       " (2, 'contacto juli', 'julieta@gmail.com', 1),\n",
       " (3, 'contacto abel', 'abel@gmail.com', 2),\n",
       " (4, 'contacto juli', 'julieta@gmail.com', 2),\n",
       " (5, 'contacto daniela', 'daniela@gmail.com', 3),\n",
       " (6, 'contacto juli', 'julieta@gmail.com', 4)]"
      ]
     },
     "execution_count": 11,
     "metadata": {},
     "output_type": "execute_result"
    }
   ],
   "source": [
    "contacts"
   ]
  },
  {
   "cell_type": "code",
   "execution_count": 12,
   "metadata": {},
   "outputs": [
    {
     "data": {
      "text/plain": [
       "[(1, 'contacto cristian', 'cristian@gmail.com', 1)]"
      ]
     },
     "execution_count": 12,
     "metadata": {},
     "output_type": "execute_result"
    }
   ],
   "source": [
    "contact"
   ]
  },
  {
   "cell_type": "code",
   "execution_count": 13,
   "metadata": {},
   "outputs": [
    {
     "data": {
      "text/plain": [
       "[(1, 'contacto cristian', 'cristian@gmail.com', 1),\n",
       " (2, 'contacto juli', 'julieta@gmail.com', 1)]"
      ]
     },
     "execution_count": 13,
     "metadata": {},
     "output_type": "execute_result"
    }
   ],
   "source": [
    "user_contacts"
   ]
  },
  {
   "cell_type": "code",
   "execution_count": 4,
   "metadata": {},
   "outputs": [
    {
     "data": {
      "text/plain": [
       "[(1, 1000, '+', datetime.datetime(2023, 10, 12, 19, 18, 39), 'RAPIPAGO', '12311', 1, 1, None),\n",
       " (2, 80, '+', datetime.datetime(2023, 10, 12, 19, 18, 39), 'VISA', '12312', 2, 1, 1),\n",
       " (3, 100, '-', datetime.datetime(2023, 10, 12, 19, 18, 39), 'CANTINA UNDEC', '12313', 3, 1, None),\n",
       " (4, 100, '-', datetime.datetime(2023, 10, 12, 19, 18, 39), 'cristian@gmail.com', '12314', 4, 1, None),\n",
       " (5, 2000, '+', datetime.datetime(2023, 10, 12, 19, 18, 40), 'PAGO FACIL', '123211', 1, 2, None),\n",
       " (6, 100, '-', datetime.datetime(2023, 10, 12, 19, 18, 40), 'MODATECH', '12313', 3, 2, None),\n",
       " (7, 100, '+', datetime.datetime(2023, 10, 12, 19, 18, 40), 'abel@gmail.com', '12314', 4, 2, None)]"
      ]
     },
     "execution_count": 4,
     "metadata": {},
     "output_type": "execute_result"
    }
   ],
   "source": [
    "transactions"
   ]
  },
  {
   "cell_type": "code",
   "execution_count": 5,
   "metadata": {},
   "outputs": [
    {
     "data": {
      "text/plain": [
       "[(1, 1000, '+', datetime.datetime(2023, 10, 12, 19, 18, 39), 'RAPIPAGO', '12311', 1, 1, None)]"
      ]
     },
     "execution_count": 5,
     "metadata": {},
     "output_type": "execute_result"
    }
   ],
   "source": [
    "transaction"
   ]
  },
  {
   "cell_type": "code",
   "execution_count": 3,
   "metadata": {},
   "outputs": [
    {
     "data": {
      "text/plain": [
       "[(1, 1000, '+', datetime.datetime(2023, 10, 12, 19, 18, 39), 'RAPIPAGO', '12311', 1, 1, None),\n",
       " (2, 80, '+', datetime.datetime(2023, 10, 12, 19, 18, 39), 'VISA', '12312', 2, 1, 1),\n",
       " (3, 100, '-', datetime.datetime(2023, 10, 12, 19, 18, 39), 'CANTINA UNDEC', '12313', 3, 1, None),\n",
       " (4, 100, '-', datetime.datetime(2023, 10, 12, 19, 18, 39), 'cristian@gmail.com', '12314', 4, 1, None)]"
      ]
     },
     "execution_count": 3,
     "metadata": {},
     "output_type": "execute_result"
    }
   ],
   "source": [
    "user_transactions"
   ]
  },
  {
   "cell_type": "code",
   "execution_count": 4,
   "metadata": {},
   "outputs": [
    {
     "data": {
      "text/plain": [
       "[(1, 1000, '+', datetime.datetime(2023, 10, 12, 19, 18, 39), 'RAPIPAGO', '12311', 1, 1, None),\n",
       " (5, 2000, '+', datetime.datetime(2023, 10, 12, 19, 18, 40), 'PAGO FACIL', '123211', 1, 2, None)]"
      ]
     },
     "execution_count": 4,
     "metadata": {},
     "output_type": "execute_result"
    }
   ],
   "source": [
    "type_transactions"
   ]
  },
  {
   "cell_type": "code",
   "execution_count": 5,
   "metadata": {},
   "outputs": [
    {
     "data": {
      "text/plain": [
       "[(1, 1000, '+', datetime.datetime(2023, 10, 12, 19, 18, 39), 'RAPIPAGO', '12311', 1, 1, None),\n",
       " (2, 80, '+', datetime.datetime(2023, 10, 12, 19, 18, 39), 'VISA', '12312', 2, 1, 1),\n",
       " (3, 100, '-', datetime.datetime(2023, 10, 12, 19, 18, 39), 'CANTINA UNDEC', '12313', 3, 1, None),\n",
       " (4, 100, '-', datetime.datetime(2023, 10, 12, 19, 18, 39), 'cristian@gmail.com', '12314', 4, 1, None)]"
      ]
     },
     "execution_count": 5,
     "metadata": {},
     "output_type": "execute_result"
    }
   ],
   "source": [
    "user_and_type_transactions"
   ]
  },
  {
   "cell_type": "code",
   "execution_count": 7,
   "metadata": {},
   "outputs": [],
   "source": [
    "user_insert = data.insert_user(\"abel4\", \"mamani4\", \"abel@gmail.com4\", \"pass4\")\n",
    "after_insert_users = data.get_users()\n"
   ]
  },
  {
   "cell_type": "code",
   "execution_count": 8,
   "metadata": {},
   "outputs": [
    {
     "data": {
      "text/plain": [
       "[(17, 'abel4', 'mamani4', 'abel@gmail.com4', 'pass4'),\n",
       " (14, 'abel2', 'mamani2', 'abel@gmail.com2', 'pass2'),\n",
       " (16, 'abel4', 'mamani4', 'abel@gmail.com4', 'pass4'),\n",
       " (1, 'Abel', 'Mamani', 'abel@gmail.com', '1234567891'),\n",
       " (2, 'Cristina', 'Mamani', 'cristian@gmail.com', '1234567892'),\n",
       " (3, 'Julieta', 'Villagra', 'julieta@gmail.com', '1234567893'),\n",
       " (4, 'Daniela', 'Triador', 'daniela@gmail.com', '1234567894')]"
      ]
     },
     "execution_count": 8,
     "metadata": {},
     "output_type": "execute_result"
    }
   ],
   "source": [
    "after_insert_users "
   ]
  },
  {
   "cell_type": "code",
   "execution_count": 29,
   "metadata": {},
   "outputs": [],
   "source": [
    "user_update = data.update_user(15, \"cain\", \"mamani2\", \"abel@gmail.com\", \"pass1\")\n",
    "after_update_users = data.get_users()"
   ]
  },
  {
   "cell_type": "code",
   "execution_count": 30,
   "metadata": {},
   "outputs": [
    {
     "data": {
      "text/plain": [
       "[(14, 'abel2', 'mamani2', 'abel@gmail.com2', 'pass2'),\n",
       " (15, 'cain', 'mamani2', 'abel@gmail.com', 'pass1'),\n",
       " (16, 'abel4', 'mamani4', 'abel@gmail.com4', 'pass4'),\n",
       " (1, 'Abel', 'Mamani', 'abel@gmail.com', '1234567891'),\n",
       " (2, 'Cristina', 'Mamani', 'cristian@gmail.com', '1234567892'),\n",
       " (3, 'Julieta', 'Villagra', 'julieta@gmail.com', '1234567893'),\n",
       " (4, 'Daniela', 'Triador', 'daniela@gmail.com', '1234567894')]"
      ]
     },
     "execution_count": 30,
     "metadata": {},
     "output_type": "execute_result"
    }
   ],
   "source": [
    "after_update_users"
   ]
  },
  {
   "cell_type": "code",
   "execution_count": 33,
   "metadata": {},
   "outputs": [],
   "source": [
    "user_delete = data.delete_user(15)\n",
    "after_delete_users = data.get_users()"
   ]
  },
  {
   "cell_type": "code",
   "execution_count": 34,
   "metadata": {},
   "outputs": [
    {
     "data": {
      "text/plain": [
       "[(14, 'abel2', 'mamani2', 'abel@gmail.com2', 'pass2'),\n",
       " (16, 'abel4', 'mamani4', 'abel@gmail.com4', 'pass4'),\n",
       " (1, 'Abel', 'Mamani', 'abel@gmail.com', '1234567891'),\n",
       " (2, 'Cristina', 'Mamani', 'cristian@gmail.com', '1234567892'),\n",
       " (3, 'Julieta', 'Villagra', 'julieta@gmail.com', '1234567893'),\n",
       " (4, 'Daniela', 'Triador', 'daniela@gmail.com', '1234567894')]"
      ]
     },
     "execution_count": 34,
     "metadata": {},
     "output_type": "execute_result"
    }
   ],
   "source": [
    "\n",
    "after_delete_users"
   ]
  },
  {
   "cell_type": "code",
   "execution_count": null,
   "metadata": {},
   "outputs": [],
   "source": []
  }
 ],
 "metadata": {
  "kernelspec": {
   "display_name": "Python 3 (ipykernel)",
   "language": "python",
   "name": "python3"
  },
  "language_info": {
   "codemirror_mode": {
    "name": "ipython",
    "version": 3
   },
   "file_extension": ".py",
   "mimetype": "text/x-python",
   "name": "python",
   "nbconvert_exporter": "python",
   "pygments_lexer": "ipython3",
   "version": "3.8.10"
  }
 },
 "nbformat": 4,
 "nbformat_minor": 4
}
